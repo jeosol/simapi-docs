{
 "cells": [
  {
   "cell_type": "markdown",
   "id": "f9117f58",
   "metadata": {},
   "source": [
    "##### Last update: 2022-04-25 (YYYY-MM-DD)\n",
    "# Performance Analysis of a Remote Application Server for Fluid Simulation\n",
    "## Load Testing and Web Performance Optimization\n"
   ]
  },
  {
   "cell_type": "markdown",
   "id": "605a711a",
   "metadata": {},
   "source": [
    "### Author: Jerome Jay Onwunalu\n",
    "\n",
    "\n",
    "## Overview\n",
    "\n",
    "The notebook presents the performance analysis of a large-scale software application that enables performing physics simulations and optimizations on remote servers. An introduction and motivation for developing the application is provided <a href=\"https://github.com/jeosol/simapi-docs/blob/main/remote_simulation_analysis.ipynb\"> here. </a> \n",
    "\n",
    "This notebook focuses on a simple scalability analysis of the application. The current tests are performed on a single node and consist of a single instance of the web, application and database servers. \n",
    "\n",
    "## Objective\n",
    "\n",
    "The objective of this study is to understand and quantify the performance of the overall system (database, web and application servers) under increasing load, i.e., concurrent HTTP requests. The results of the study will be used to advise scaling-out the architecture to handle many users, ensure high reliability, high availability, and good overall performance (response times)."
   ]
  },
  {
   "cell_type": "markdown",
   "id": "1de550e1",
   "metadata": {},
   "source": [
    "# Metholody for Performance Analysis\n",
    "\n",
    "A user interacts with the application by making HTTP requests to the system. \n",
    "\n",
    "In order to analyze the performance of the different tiers of the system (web and application servers), we perform multiple synchronous and asynchronous HTTP requests to the application. For the asynchronous requests, we consider different levels of concurrent requests to the web server. For the results shown here, the number of requests to the system are set at 1, 2, 5, and 10 respectively. All HTTP requests levels greater than 1 are performed concurrently.\n",
    "\n",
    "For both the synchronous and asynchronous cases, we perform a total of 100 HTTP requests. To reduce variance in the results due to the different problem instances, we use the same application data for each HTTP requests. This means that the physics results for all requests are exactly the same.\n",
    "\n",
    "It should be noted that the test below use a single instance of the web, application/worker, and database servers. Also, all we are using a single-node system architecture, i.e., all server tiers (web, database and application) are running on a single machine instance."
   ]
  },
  {
   "cell_type": "markdown",
   "id": "0b34eaed",
   "metadata": {},
   "source": [
    "## Results \n",
    "This section presents the results of the overall system performance under different workloads. As described in the previous section, we perform 100 HTTP requests to the web server synchronously (serially) and asynchronously. Figure 1 shows statistical analyses of the results for 1, 2, 5, 10 concurrent users requests.\n",
    "\n",
    "<img src=\"webserver_concurrent_notebook.png\" width=760 height=560 />\n",
    "\n",
    "Figure 1. HTTP Requests durations for workflows (concurrent HTTP requests)"
   ]
  },
  {
   "cell_type": "markdown",
   "id": "27764428",
   "metadata": {},
   "source": [
    "## Discusion\n",
    "\n",
    "For a single request, the median and p99 HTTP request response times are 2.5 and 5.0 seconds respectively. However, as we increase the load on the system (increasing concurrent requests), there is a degradation of system performance. For example, with 5 concurrent requests, the median and p99 durations are 8.1 and 10.0 seconds. With 10 concurrent requests, the median and p99 response times increase to 13.6 and 16.0 seconds respectively.\n",
    "\n",
    "### Scaling out\n",
    "As seen from the Figure 1, there is a degradation of performance as the number of concurrent requests increases. To guarantee good performance at p99 value for HTTP durations of approximately 6 seconds, we will need to scale out the application by using multiple worker and application servers."
   ]
  }
 ],
 "metadata": {
  "kernelspec": {
   "display_name": "Python 3",
   "language": "python",
   "name": "python3"
  },
  "language_info": {
   "codemirror_mode": {
    "name": "ipython",
    "version": 3
   },
   "file_extension": ".py",
   "mimetype": "text/x-python",
   "name": "python",
   "nbconvert_exporter": "python",
   "pygments_lexer": "ipython3",
   "version": "3.7.12"
  }
 },
 "nbformat": 4,
 "nbformat_minor": 5
}
